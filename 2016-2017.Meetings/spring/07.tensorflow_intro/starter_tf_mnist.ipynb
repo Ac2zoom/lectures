{
 "cells": [
  {
   "cell_type": "markdown",
   "metadata": {
    "deletable": true,
    "editable": true
   },
   "source": [
    "In this notebook, we want to build a logistic regression classifier in Tensorflow for MNIST.\n",
    "\n",
    "The logistic regression classifier is defined as: $y = sigmoid(Wx + b)$"
   ]
  },
  {
   "cell_type": "code",
   "execution_count": 1,
   "metadata": {
    "collapsed": true,
    "deletable": true,
    "editable": true
   },
   "outputs": [],
   "source": [
    "from __future__ import print_function\n",
    "import tensorflow as tf\n",
    "import math"
   ]
  },
  {
   "cell_type": "code",
   "execution_count": 2,
   "metadata": {
    "collapsed": true,
    "deletable": true,
    "editable": true
   },
   "outputs": [],
   "source": [
    "# Get the MNIST dataset\n",
    "from tensorflow.examples.tutorials.mnist import input_data"
   ]
  },
  {
   "cell_type": "code",
   "execution_count": 3,
   "metadata": {
    "collapsed": false,
    "deletable": true,
    "editable": true
   },
   "outputs": [
    {
     "name": "stdout",
     "output_type": "stream",
     "text": [
      "Successfully downloaded train-images-idx3-ubyte.gz 9912422 bytes.\n",
      "Extracting ./data/mnist/train-images-idx3-ubyte.gz\n",
      "Successfully downloaded train-labels-idx1-ubyte.gz 28881 bytes.\n",
      "Extracting ./data/mnist/train-labels-idx1-ubyte.gz\n",
      "Successfully downloaded t10k-images-idx3-ubyte.gz 1648877 bytes.\n",
      "Extracting ./data/mnist/t10k-images-idx3-ubyte.gz\n",
      "Successfully downloaded t10k-labels-idx1-ubyte.gz 4542 bytes.\n",
      "Extracting ./data/mnist/t10k-labels-idx1-ubyte.gz\n"
     ]
    }
   ],
   "source": [
    "# Step 0: Read in the data into the \"/data/mnist\" folder\n",
    "mnist = input_data.read_data_sets('./data/mnist', one_hot=True)"
   ]
  },
  {
   "cell_type": "code",
   "execution_count": 5,
   "metadata": {
    "collapsed": true,
    "deletable": true,
    "editable": true
   },
   "outputs": [],
   "source": [
    "# Step 1: Create placeholders to feed your inputs and labels into\n",
    "# Each MNIST image has 28*28 = 784 pixels. So you can represent it as a 1x784 Tensor.\n",
    "# There are 10 possible classes for each image, corresponding to digits 0-9.\n",
    "# Name the input placeholder \"mnist_inputs\" and the labels placeholder \"mnist_labels\"\n",
    "mnist_inputs = tf.placeholder(\"float\", [None, 784])\n",
    "mnist_labels = tf.placeholder(\"float\", [None, 10])"
   ]
  },
  {
   "cell_type": "code",
   "execution_count": 23,
   "metadata": {
    "collapsed": false,
    "deletable": true,
    "editable": true
   },
   "outputs": [],
   "source": [
    "# Step 2: Create Variables for the parameters of the model: the weights and the bias.\n",
    "# Initialize the bias to a 0 tensor. (hint: tf.zeros)\n",
    "# Initialize the weights with a random uniform distribution, with a max of 1 and a min of -1. (hint: tf.random_uniform)\n",
    "# Be sure to think carefully about the shapes of these tensors.\n",
    "b = tf.Variable(tf.zeros([1, 10]))\n",
    "W = tf.Variable(tf.random_uniform([784, 10], -1, 1))\n",
    "\n",
    "# Optional: Define a global_step variable for use in tensorboard.\n",
    "global_step = tf.Variable(0, trainable=False)"
   ]
  },
  {
   "cell_type": "code",
   "execution_count": 24,
   "metadata": {
    "collapsed": false,
    "deletable": true,
    "editable": true
   },
   "outputs": [],
   "source": [
    "# Step 3: Build the model, stringing together your placeholders and variables to create\n",
    "# two ops: one for the logits (output right before sigmoid), and one for the probability\n",
    "# distribution generated from the model (output right after sigmoid/softmax operation).\n",
    "# tf.nn.softmax may come in handy for generating the probabilities.\n",
    "\n",
    "# Name the logits operation \"logits\", and the probability operation \"predictions\".\n",
    "logits = tf.matmul(mnist_inputs, W) + b\n",
    "predictions = tf.nn.softmax(logits)"
   ]
  },
  {
   "cell_type": "code",
   "execution_count": 25,
   "metadata": {
    "collapsed": false,
    "deletable": true,
    "editable": true
   },
   "outputs": [],
   "source": [
    "# Step 4: Define your loss function. Use the cross entropy loss function, and use tensorflow's\n",
    "# built in \"tf.nn.sofmtax_cross_entropy_with_logits(logits, labels)\" function to get the xentropy\n",
    "# of each instance in the batch. Then, get the average loss of the batch.\n",
    "# Name the loss op \"loss\"\n",
    "loss = tf.reduce_mean(tf.nn.softmax_cross_entropy_with_logits(\n",
    "    logits=logits, labels=mnist_labels))"
   ]
  },
  {
   "cell_type": "code",
   "execution_count": 26,
   "metadata": {
    "collapsed": false,
    "deletable": true,
    "editable": true
   },
   "outputs": [],
   "source": [
    "# Step 5: Define a function to get the accuracy of your model on this batch. Name it \"accuracy\"\n",
    "correct_preds = tf.equal(tf.argmax(predictions, 1),\n",
    "                        tf.argmax(mnist_labels, 1))\n",
    "num_correct_preds = tf.reduce_sum(tf.cast(correct_preds, \"float\"))\n",
    "accuracy = num_correct_preds / tf.cast(tf.shape(mnist_inputs)[0], \"float\")"
   ]
  },
  {
   "cell_type": "code",
   "execution_count": 27,
   "metadata": {
    "collapsed": false,
    "deletable": true,
    "editable": true
   },
   "outputs": [],
   "source": [
    "# Step 6: Define an optimizer that you want to use, and create the training operation to \n",
    "# use the optimizer to minimize the loss. Name the training operation \"train_op\"\n",
    "optimizer = tf.train.AdamOptimizer()\n",
    "train_op = optimizer.minimize(loss)"
   ]
  },
  {
   "cell_type": "code",
   "execution_count": 30,
   "metadata": {
    "collapsed": false,
    "deletable": true,
    "editable": true
   },
   "outputs": [],
   "source": [
    "# Define summary ops for TensorBoard (optional). Name the summary op \"summary_op\".\n",
    "tf.summary.scalar(\"train_loss\", loss)\n",
    "tf.summary.scalar(\"train_acc\", accuracy)\n",
    "summary_op = tf.summary.merge_all()"
   ]
  },
  {
   "cell_type": "code",
   "execution_count": 22,
   "metadata": {
    "collapsed": false,
    "deletable": true,
    "editable": true
   },
   "outputs": [
    {
     "name": "stdout",
     "output_type": "stream",
     "text": [
      "Epoch 0 done! Average Train Loss: 2.83023530481, Average Train Accuracy: 0.420745920746\n",
      "Epoch 1 done! Average Train Loss: 0.916328266437, Average Train Accuracy: 0.745483682984\n",
      "Epoch 2 done! Average Train Loss: 0.649836899378, Average Train Accuracy: 0.817034527972\n",
      "Epoch 3 done! Average Train Loss: 0.53436298262, Average Train Accuracy: 0.849158653846\n",
      "Epoch 4 done! Average Train Loss: 0.470660562351, Average Train Accuracy: 0.867369609557\n",
      "Epoch 5 done! Average Train Loss: 0.429254504872, Average Train Accuracy: 0.878569347319\n",
      "Epoch 6 done! Average Train Loss: 0.399380427453, Average Train Accuracy: 0.888312208625\n",
      "Epoch 7 done! Average Train Loss: 0.378451411888, Average Train Accuracy: 0.893720862471\n",
      "Epoch 8 done! Average Train Loss: 0.360920734339, Average Train Accuracy: 0.898364656177\n",
      "Epoch 9 done! Average Train Loss: 0.348246344806, Average Train Accuracy: 0.903135926573\n",
      "Epoch 10 done! Average Train Loss: 0.336710334484, Average Train Accuracy: 0.905594405594\n",
      "Epoch 11 done! Average Train Loss: 0.327238524189, Average Train Accuracy: 0.907998251748\n",
      "Epoch 12 done! Average Train Loss: 0.320375184183, Average Train Accuracy: 0.909910402098\n",
      "Epoch 13 done! Average Train Loss: 0.313024920027, Average Train Accuracy: 0.912860576923\n",
      "Epoch 14 done! Average Train Loss: 0.306681180247, Average Train Accuracy: 0.914372086247\n",
      "Epoch 15 done! Average Train Loss: 0.302072476031, Average Train Accuracy: 0.915828962704\n",
      "Epoch 16 done! Average Train Loss: 0.296870044409, Average Train Accuracy: 0.917813956876\n",
      "Epoch 17 done! Average Train Loss: 0.29409196728, Average Train Accuracy: 0.918305652681\n",
      "Epoch 18 done! Average Train Loss: 0.290073239286, Average Train Accuracy: 0.919270833333\n",
      "Epoch 19 done! Average Train Loss: 0.286507497544, Average Train Accuracy: 0.920418123543\n",
      "Epoch 20 done! Average Train Loss: 0.283220089434, Average Train Accuracy: 0.921328671329\n",
      "Epoch 21 done! Average Train Loss: 0.280716730286, Average Train Accuracy: 0.922075320513\n",
      "Epoch 22 done! Average Train Loss: 0.278478256681, Average Train Accuracy: 0.922603438228\n",
      "Epoch 23 done! Average Train Loss: 0.275823307899, Average Train Accuracy: 0.923878205128\n",
      "Epoch 24 done! Average Train Loss: 0.273199135572, Average Train Accuracy: 0.924661276224\n",
      "Epoch 25 done! Average Train Loss: 0.270853194844, Average Train Accuracy: 0.925244026807\n",
      "Epoch 26 done! Average Train Loss: 0.269441610085, Average Train Accuracy: 0.925863199301\n",
      "Epoch 27 done! Average Train Loss: 0.267456830746, Average Train Accuracy: 0.926518793706\n",
      "Epoch 28 done! Average Train Loss: 0.266145194067, Average Train Accuracy: 0.926427738928\n",
      "Epoch 29 done! Average Train Loss: 0.264717532812, Average Train Accuracy: 0.926992278555\n",
      "Finished 30 epochs\n"
     ]
    }
   ],
   "source": [
    "# Step 7: Create a session for the model to run in, and then set up a train loop\n",
    "# to optimize the weights given the mnist data. Optionally, add tensorboard visualization too.\n",
    "nb_train_examples = mnist.train.num_examples\n",
    "batch_size = 128\n",
    "nb_epochs = 30\n",
    "batches_per_epoch = int(math.ceil(nb_train_examples/batch_size))\n",
    "log_period = 250\n",
    "\n",
    "with tf.Session() as sess:\n",
    "    # Step 7.1 Initialize your Variables\n",
    "    sess.run(tf.global_variables_initializer())\n",
    "    # Set up tensorboard writer (optional)\n",
    "    for epoch in range(nb_epochs):\n",
    "        epoch_total_loss = 0\n",
    "        epoch_total_accuracy = 0\n",
    "        \n",
    "        for batch in range(batches_per_epoch):\n",
    "            loop_global_step = sess.run(global_step) + 1\n",
    "            batch_inputs, batch_labels = mnist.train.next_batch(batch_size)\n",
    "            # Step 7.2 Get the batch loss, batch accuracy, and run the training op.\n",
    "            train_writer = tf.summary.FileWriter(\"./logs/train\", sess.graph)\n",
    "            # If the log period is up, write summaries to tensorboard.\n",
    "            batch_loss, batch_acc, _ = sess.run(\n",
    "                [loss, accuracy, train_op], \n",
    "                feed_dict = {mnist_inputs: batch_inputs,\n",
    "                          mnist_labels: batch_labels})\n",
    "            if loop_global_step % log_period == 0:\n",
    "                train_summary = sess.run(\n",
    "                    summary_op,\n",
    "                    feed_dict={mnist_inputs:batch_inputs,\n",
    "                               mnist_labels: batch_labels})\n",
    "            epoch_total_loss += batch_loss\n",
    "            epoch_total_accuracy += batch_acc\n",
    "        \n",
    "        epoch_average_loss = epoch_total_loss / batches_per_epoch\n",
    "        epoch_average_accuracy = epoch_total_accuracy / batches_per_epoch\n",
    "        print(\"Epoch {} done! Average Train Loss: {}, Average Train Accuracy: {}\".format(epoch, \n",
    "                                                                                 epoch_average_loss, \n",
    "                                                                                 epoch_average_accuracy))\n",
    "    print(\"Finished {} epochs\".format(nb_epochs))"
   ]
  },
  {
   "cell_type": "code",
   "execution_count": null,
   "metadata": {
    "collapsed": true,
    "deletable": true,
    "editable": true
   },
   "outputs": [],
   "source": []
  }
 ],
 "metadata": {
  "kernelspec": {
   "display_name": "Python 2",
   "language": "python",
   "name": "python2"
  },
  "language_info": {
   "codemirror_mode": {
    "name": "ipython",
    "version": 2
   },
   "file_extension": ".py",
   "mimetype": "text/x-python",
   "name": "python",
   "nbconvert_exporter": "python",
   "pygments_lexer": "ipython2",
   "version": "2.7.13"
  }
 },
 "nbformat": 4,
 "nbformat_minor": 2
}
