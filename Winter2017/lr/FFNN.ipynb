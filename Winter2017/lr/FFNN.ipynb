{
 "cells": [
  {
   "cell_type": "code",
   "execution_count": 2,
   "metadata": {
    "collapsed": true
   },
   "outputs": [],
   "source": [
    "from __future__ import division\n",
    "import numpy as np\n",
    "import gzip\n",
    "import cPickle\n",
    "import math\n",
    "import random\n",
    "from itertools import izip"
   ]
  },
  {
   "cell_type": "code",
   "execution_count": 3,
   "metadata": {
    "collapsed": false
   },
   "outputs": [],
   "source": [
    "with gzip.open('mnist.pkl.gz', 'rb') as f:\n",
    "    training, validation, test = [zip(*data) for data in cPickle.load(f)]\n",
    "\n",
    "for data in (training, validation, test):\n",
    "    for i in range(len(data)):\n",
    "        data[i] = (np.reshape(data[i][0], (-1, 1)), data[i][1])\n",
    "CLASSES = 10\n",
    "FEATURES = 784"
   ]
  },
  {
   "cell_type": "code",
   "execution_count": 4,
   "metadata": {
    "collapsed": true
   },
   "outputs": [],
   "source": [
    "def show_image(data):\n",
    "    from matplotlib import pyplot as plt\n",
    "    data = np.reshape(data, (28, 28))\n",
    "    plt.imshow(data, cmap='gray_r')\n",
    "    plt.show()"
   ]
  },
  {
   "cell_type": "code",
   "execution_count": 17,
   "metadata": {
    "collapsed": false
   },
   "outputs": [],
   "source": [
    "class FeedForwardNN():\n",
    "    def __init__(self, training, hidden_size, epochs=10, batch_size=1, learning_rate=0.01):\n",
    "        # set up some weights and biases, and train that shit!\n",
    "        self.weights = [np.random.randn(hidden_size, FEATURES), np.random.randn(CLASSES, hidden_size)]\n",
    "        self.bias = [np.random.randn(hidden_size, 1), np.random.randn(CLASSES, 1)]\n",
    "        self.training = training\n",
    "        for j in range(0, epochs):\n",
    "            random.shuffle(self.training)\n",
    "            for x, y in self.training:\n",
    "                gradient = self.backprop(x, y)\n",
    "                for i in range(0,2):\n",
    "                    self.weights[i] -= gradient[0][i] * learning_rate\n",
    "                    self.bias[i] -= gradient[1][i] * learning_rate\n",
    "    \n",
    "    # write the sigmoid function for numpy arrays\n",
    "    def sigmoid(self, x):\n",
    "        exp = np.exp(x)\n",
    "        return exp/(exp+1)\n",
    "\n",
    "    # write the derivative of the sigmoid function, s(x)*(1-s(x))\n",
    "    def dsigmoid(self, x):\n",
    "        pass\n",
    "\n",
    "    # write the derivative of the cost function for a single training example (this is simple)\n",
    "    # remember the cost function is the L2 norm squared of y - y_hat\n",
    "    def cost_derivative(self, output_activations, y):\n",
    "        pass\n",
    "\n",
    "    # the fun part! write code to compute the gradient of the cost function for a single example\n",
    "    # with regard to all of the weights and biases\n",
    "    def backprop(self, x, y):\n",
    "        # make db and dw, the same size/shape as biases and weights\n",
    "        \n",
    "        # pass your example forward through the network, keeping track of the pre-sigmoid and post-sigmoid activations\n",
    "\n",
    "        # compute delta, the derivative of the cost function at the last step, times dsigmoid of the last set of activatins\n",
    "        # put it in the gradients\n",
    "        \n",
    "        # for layers L-1 to 0, set the gradients!\n",
    "        pass\n",
    "        # return that tuple homie\n",
    "\n",
    "    # write code that, given an example (and weights already trained), returns a class (0-9) for the image\n",
    "    def classify(self, example):\n",
    "        weightsVec = self.sigmoid(np.dot(self.weights[0], example) + self.bias[0])\n",
    "        outputVec = self.sigmoid(np.dot(self.weights[1], weightsVec) + self.bias[1])\n",
    "        return np.argmax(outputVec)"
   ]
  },
  {
   "cell_type": "code",
   "execution_count": 18,
   "metadata": {
    "collapsed": false,
    "scrolled": false
   },
   "outputs": [],
   "source": [
    "def one_hot(nfeatures, val):\n",
    "    vec = np.zeros((nfeatures, 1))\n",
    "    vec[val] = 1\n",
    "    return vec\n",
    "\n",
    "one_hot_training = [(x, one_hot(10, y)) for x, y in training]\n",
    "m = FeedForwardNN(one_hot_training, 15, epochs=1000)"
   ]
  },
  {
   "cell_type": "code",
   "execution_count": 20,
   "metadata": {
    "collapsed": false
   },
   "outputs": [
    {
     "data": {
      "text/plain": [
       "6"
      ]
     },
     "execution_count": 20,
     "metadata": {},
     "output_type": "execute_result"
    }
   ],
   "source": [
    "m.classify(test[0][0])"
   ]
  },
  {
   "cell_type": "code",
   "execution_count": 12,
   "metadata": {
    "collapsed": false
   },
   "outputs": [
    {
     "data": {
      "text/plain": [
       "array([ 0.5       ,  0.73105858,  0.88079708])"
      ]
     },
     "execution_count": 12,
     "metadata": {},
     "output_type": "execute_result"
    }
   ],
   "source": [
    "m.sigmoid(np.array([0,1,2]))"
   ]
  },
  {
   "cell_type": "code",
   "execution_count": null,
   "metadata": {
    "collapsed": true
   },
   "outputs": [],
   "source": []
  }
 ],
 "metadata": {
  "kernelspec": {
   "display_name": "Python 2",
   "language": "python",
   "name": "python2"
  },
  "language_info": {
   "codemirror_mode": {
    "name": "ipython",
    "version": 2
   },
   "file_extension": ".py",
   "mimetype": "text/x-python",
   "name": "python",
   "nbconvert_exporter": "python",
   "pygments_lexer": "ipython2",
   "version": "2.7.13"
  }
 },
 "nbformat": 4,
 "nbformat_minor": 1
}
