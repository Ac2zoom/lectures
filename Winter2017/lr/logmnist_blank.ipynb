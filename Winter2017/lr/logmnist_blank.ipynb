{
 "cells": [
  {
   "cell_type": "code",
   "execution_count": 3,
   "metadata": {
    "collapsed": false
   },
   "outputs": [],
   "source": [
    "import numpy as np\n",
    "import pickle\n",
    "import gzip\n",
    "with gzip.open('mnist01.pkl.gz', 'rb') as f:\n",
    "    training, validation, test = pickle.load(f)\n",
    "    # fix a 1 on the end of each input vector to handle the bias\n",
    "    for dataset in (training, validation, test):\n",
    "        for idx in range(len(dataset)):\n",
    "            dataset[idx] = (np.append(dataset[idx][0], [1]), dataset[idx][1])"
   ]
  },
  {
   "cell_type": "code",
   "execution_count": 37,
   "metadata": {
    "collapsed": false
   },
   "outputs": [],
   "source": [
    "def show_image(data):\n",
    "    from matplotlib import pyplot as plt\n",
    "    data = np.reshape(data[:-1], (28, 28))\n",
    "    plt.imshow(data, cmap='gray_r')\n",
    "    plt.show()"
   ]
  },
  {
   "cell_type": "code",
   "execution_count": 4,
   "metadata": {
    "collapsed": false
   },
   "outputs": [],
   "source": [
    "# remember that σ(x) = e^x/(e^x+1)\n",
    "# each image is made up of 784 pixels, so we need to learn a 785x1 vector w that maximizes the likelihood\n",
    "# L(X,Y|w) = product_{i=1}^n p(y_i|x_i)\n",
    "# = product_{i=1}^n σ(x_i*w)^y_i*(1-σ(x_i*w))^(1-y_i)\n",
    "# we can get rid of the product by taking logs, and realizing that if we maximize the log, we're also maximizing\n",
    "# the original function.\n",
    "# LL(X,Y|w) = sum_{i=1}^n log(σ(x_i*w))*y_i + log(1-σ(x_i*w))*(1-y_i)\n",
    "# to maximize this, we'll use gradient descent!\n",
    "# the gradient of LL with respect to the weights is\n",
    "# d/dw LL(X,Y|w) = sum_{i=1}^n (y_i-σ(x_i*w))*x_i\n",
    "# (note that this is a vector!)\n",
    "\n",
    "# write the sigmoid function that takes in a real-valued x and returns σ(x) = e^x/(e^x+1)\n",
    "\n",
    "def sigmoid(x):\n",
    "    pass\n",
    "\n",
    "# write a function that takes in the training data and weights, and returns the gradient log likelihood of the data given the weights\n",
    "\n",
    "def dlog_likelihood(data, weights):\n",
    "    pass\n",
    "\n",
    "# write a function that takes in the training data and weights, and returns the log likelihood (not the gradient)\n",
    "def log_likelihood(data, weights):\n",
    "    pass\n",
    "\n",
    "# let's initialize our weights to some random normal values (you can experiment with other initialization techniques)\n",
    "weights = np.random.randn(785)\n",
    "\n",
    "# set some \"learning rate\", which is how much the weights change in response to the gradient\n",
    "# if this is too low, learning will be slow. if it's too high, the behavior can be chaotic\n",
    "learning_rate = 0.0001\n",
    "\n",
    "# for some number of iterations, repeatedly set weights = weights + learning_rate* d/dw LL(X,Y|weights)\n",
    "for i in range(1000):\n",
    "    pass\n"
   ]
  },
  {
   "cell_type": "code",
   "execution_count": null,
   "metadata": {
    "collapsed": true
   },
   "outputs": [],
   "source": []
  }
 ],
 "metadata": {
  "kernelspec": {
   "display_name": "Python 2 (SageMath)",
   "language": "python",
   "name": "python2"
  },
  "language_info": {
   "codemirror_mode": {
    "name": "ipython",
    "version": 2
   },
   "file_extension": ".py",
   "mimetype": "text/x-python",
   "name": "python",
   "nbconvert_exporter": "python",
   "pygments_lexer": "ipython2",
   "version": "2.7.10"
  }
 },
 "nbformat": 4,
 "nbformat_minor": 0
}
