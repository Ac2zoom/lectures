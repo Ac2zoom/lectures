{
 "cells": [
  {
   "cell_type": "code",
   "execution_count": 24,
   "metadata": {
    "collapsed": false
   },
   "outputs": [],
   "source": [
    "import numpy as np\n",
    "import pickle\n",
    "import gzip\n",
    "with gzip.open('mnist.pkl.gz', 'rb') as f:\n",
    "    training, validation, test = map(list, pickle.load(f))\n",
    "    # fix a 1 on the end of each input vector to handle the bias\n",
    "    training = zip(*training)\n",
    "    test = zip(*test)\n",
    "    validation = zip(*validation)\n",
    "    for dataset in (training, validation, test):\n",
    "        for idx in range(len(dataset)):\n",
    "            dataset[idx] = (np.append(dataset[idx][0], [1]), dataset[idx][1])"
   ]
  },
  {
   "cell_type": "code",
   "execution_count": 3,
   "metadata": {
    "collapsed": false
   },
   "outputs": [],
   "source": [
    "def show_image(data):\n",
    "    from matplotlib import pyplot as plt\n",
    "    data = np.reshape(data[:-1], (28, 28))\n",
    "    plt.imshow(data, cmap='gray_r')\n",
    "    plt.show()"
   ]
  },
  {
   "cell_type": "code",
   "execution_count": 5,
   "metadata": {
    "collapsed": false
   },
   "outputs": [
    {
     "ename": "ValueError",
     "evalue": "The truth value of an array with more than one element is ambiguous. Use a.any() or a.all()",
     "output_type": "error",
     "traceback": [
      "\u001b[1;31m---------------------------------------------------------------------------\u001b[0m",
      "\u001b[1;31mValueError\u001b[0m                                Traceback (most recent call last)",
      "\u001b[1;32m<ipython-input-5-a183e727b039>\u001b[0m in \u001b[0;36m<module>\u001b[1;34m()\u001b[0m\n\u001b[0;32m     58\u001b[0m \u001b[1;32mfor\u001b[0m \u001b[0mi\u001b[0m \u001b[1;32min\u001b[0m \u001b[0mrange\u001b[0m\u001b[1;33m(\u001b[0m\u001b[1;36m1000\u001b[0m\u001b[1;33m)\u001b[0m\u001b[1;33m:\u001b[0m\u001b[1;33m\u001b[0m\u001b[0m\n\u001b[0;32m     59\u001b[0m     \u001b[1;31m#print weights\u001b[0m\u001b[1;33m\u001b[0m\u001b[1;33m\u001b[0m\u001b[0m\n\u001b[1;32m---> 60\u001b[1;33m     \u001b[0mweights\u001b[0m \u001b[1;33m+=\u001b[0m \u001b[0mlearning_rate\u001b[0m \u001b[1;33m*\u001b[0m \u001b[0mdlog_likelihood\u001b[0m\u001b[1;33m(\u001b[0m\u001b[0mtraining\u001b[0m\u001b[1;33m,\u001b[0m \u001b[0mweights\u001b[0m\u001b[1;33m)\u001b[0m\u001b[1;33m\u001b[0m\u001b[0m\n\u001b[0m",
      "\u001b[1;32m<ipython-input-5-a183e727b039>\u001b[0m in \u001b[0;36mdlog_likelihood\u001b[1;34m(data, weights)\u001b[0m\n\u001b[0;32m     29\u001b[0m         \u001b[1;32mfor\u001b[0m \u001b[0mi\u001b[0m \u001b[1;32min\u001b[0m \u001b[0mrange\u001b[0m\u001b[1;33m(\u001b[0m\u001b[1;36m10\u001b[0m\u001b[1;33m)\u001b[0m\u001b[1;33m:\u001b[0m\u001b[1;33m\u001b[0m\u001b[0m\n\u001b[0;32m     30\u001b[0m             \u001b[1;32mfor\u001b[0m \u001b[0mj\u001b[0m \u001b[1;32min\u001b[0m \u001b[0mrange\u001b[0m\u001b[1;33m(\u001b[0m\u001b[1;36m785\u001b[0m\u001b[1;33m)\u001b[0m\u001b[1;33m:\u001b[0m\u001b[1;33m\u001b[0m\u001b[0m\n\u001b[1;32m---> 31\u001b[1;33m                 \u001b[1;32mif\u001b[0m \u001b[0mi\u001b[0m \u001b[1;33m==\u001b[0m \u001b[0my\u001b[0m\u001b[1;33m:\u001b[0m\u001b[1;33m\u001b[0m\u001b[0m\n\u001b[0m\u001b[0;32m     32\u001b[0m                     \u001b[0mtotal\u001b[0m\u001b[1;33m[\u001b[0m\u001b[0mi\u001b[0m\u001b[1;33m]\u001b[0m\u001b[1;33m[\u001b[0m\u001b[0mj\u001b[0m\u001b[1;33m]\u001b[0m \u001b[1;33m=\u001b[0m \u001b[1;33m(\u001b[0m\u001b[1;36m1\u001b[0m\u001b[1;33m-\u001b[0m\u001b[0mp\u001b[0m\u001b[1;33m[\u001b[0m\u001b[0mi\u001b[0m\u001b[1;33m]\u001b[0m\u001b[1;33m)\u001b[0m\u001b[1;33m*\u001b[0m\u001b[0mx\u001b[0m\u001b[1;33m[\u001b[0m\u001b[0mj\u001b[0m\u001b[1;33m]\u001b[0m\u001b[1;33m\u001b[0m\u001b[0m\n\u001b[0;32m     33\u001b[0m                 \u001b[1;32melse\u001b[0m\u001b[1;33m:\u001b[0m\u001b[1;33m\u001b[0m\u001b[0m\n",
      "\u001b[1;31mValueError\u001b[0m: The truth value of an array with more than one element is ambiguous. Use a.any() or a.all()"
     ]
    }
   ],
   "source": [
    "# remember that σ(x) = e^x/(e^x+1)\n",
    "# each image is made up of 784 pixels, so we need to learn a 785x1 vector w that maximizes the likelihood\n",
    "# L(X,Y|w) = product_{i=1}^n p(y_i|x_i)\n",
    "# = product_{i=1}^n σ(x_i*w)^y_i*(1-σ(x_i*w))^(1-y_i)\n",
    "# we can get rid of the product by taking logs, and realizing that if we maximize the log, we're also maximizing\n",
    "# the original function.\n",
    "# LL(X,Y|w) = sum_{i=1}^n log(σ(x_i*w))*y_i + log(1-σ(x_i*w))*(1-y_i)\n",
    "# to maximize this, we'll use gradient descent!\n",
    "# the gradient of LL with respect to the weights is\n",
    "# d/dw LL(X,Y|w) = sum_{i=1}^n (y_i-σ(x_i*w))*x_i\n",
    "# (note that this is a vector!)\n",
    "\n",
    "# write the sigmoid function that takes in a real-valued x and returns σ(x) = e^x/(e^x+1)\n",
    "np.random.seed(0)\n",
    "def sigmoid(x):\n",
    "    return np.exp(x)/(np.exp(x)+1)\n",
    "\n",
    "def softmax(v):\n",
    "    ret = np.exp(v)\n",
    "    ret = ret/sum(ret)\n",
    "    return ret\n",
    "\n",
    "# write a function that takes in the training data and weights, and returns the gradient log likelihood of the data given the weights\n",
    "\n",
    "def dlog_likelihood(data, weights):\n",
    "    total = np.zeros((10, 785))\n",
    "    for x, y in data:\n",
    "        p = softmax(np.dot(weights, x))\n",
    "        for i in range(10):\n",
    "            for j in range(785):\n",
    "                if i == y:\n",
    "                    total[i][j] = (1-p[i])*x[j]\n",
    "                else:\n",
    "                    total[i][j] = -p[i]*x[j]\n",
    "    return total\n",
    "\n",
    "# write a function that takes in the training data and weights, and returns the log likelihood (not the gradient)\n",
    "def log_likelihood(data, weights):\n",
    "    pass\n",
    "\n",
    "# write a function that classifies a single example\n",
    "def classify(example, weights):\n",
    "    pass\n",
    "\n",
    "# write a function that checks how many elements of the dataset are classified correctly\n",
    "def evaluate(data, weights):\n",
    "    pass\n",
    "\n",
    "# let's initialize our weights to some random normal values (you can experiment with other initialization techniques)\n",
    "# (what do the dimensions the weights need to be?)\n",
    "weights = np.random.randn(10, 785)\n",
    "\n",
    "# set some \"learning rate\", which is how much the weights change in response to the gradient\n",
    "# if this is too low, learning will be slow. if it's too high, the behavior can be chaotic\n",
    "learning_rate = 0.0001\n",
    "\n",
    "# for some number of iterations, repeatedly set weights = weights + learning_rate* d/dw LL(X,Y|weights)\n",
    "for i in range(1000):\n",
    "    pass\n"
   ]
  },
  {
   "cell_type": "code",
   "execution_count": null,
   "metadata": {
    "collapsed": true
   },
   "outputs": [],
   "source": []
  }
 ],
 "metadata": {
  "kernelspec": {
   "display_name": "Python 2 (SageMath)",
   "language": "python",
   "name": "python2"
  },
  "language_info": {
   "codemirror_mode": {
    "name": "ipython",
    "version": 2
   },
   "file_extension": ".py",
   "mimetype": "text/x-python",
   "name": "python",
   "nbconvert_exporter": "python",
   "pygments_lexer": "ipython2",
   "version": "2.7.10"
  }
 },
 "nbformat": 4,
 "nbformat_minor": 0
}
