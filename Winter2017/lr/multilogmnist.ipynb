{
 "cells": [
  {
   "cell_type": "code",
   "execution_count": 24,
   "metadata": {
    "collapsed": false
   },
   "outputs": [],
   "source": [
    "import numpy as np\n",
    "import pickle\n",
    "import gzip\n",
    "with gzip.open('mnist.pkl.gz', 'rb') as f:\n",
    "    training, validation, test = map(list, pickle.load(f))\n",
    "    # fix a 1 on the end of each input vector to handle the bias\n",
    "    training = zip(*training)\n",
    "    test = zip(*test)\n",
    "    validation = zip(*validation)\n",
    "    for dataset in (training, validation, test):\n",
    "        for idx in range(len(dataset)):\n",
    "            dataset[idx] = (np.append(dataset[idx][0], [1]), dataset[idx][1])"
   ]
  },
  {
   "cell_type": "code",
   "execution_count": 3,
   "metadata": {
    "collapsed": false
   },
   "outputs": [],
   "source": [
    "def show_image(data):\n",
    "    from matplotlib import pyplot as plt\n",
    "    data = np.reshape(data[:-1], (28, 28))\n",
    "    plt.imshow(data, cmap='gray_r')\n",
    "    plt.show()"
   ]
  },
  {
   "cell_type": "code",
   "execution_count": 29,
   "metadata": {
    "collapsed": false
   },
   "outputs": [],
   "source": [
    "# write the softmax function\n",
    "np.random.seed(0)\n",
    "\n",
    "def softmax(v):\n",
    "    ret = np.exp(v)\n",
    "    ret = ret/sum(ret)\n",
    "    return ret\n",
    "\n",
    "# write a function that takes in the training data and weights, and returns the gradient log likelihood of the data given the weights\n",
    "\n",
    "def dlog_likelihood(data, weights):\n",
    "    pass\n",
    "\n",
    "# write a function that takes in the training data and weights, and returns the log likelihood (not the gradient)\n",
    "def log_likelihood(data, weights):\n",
    "    pass\n",
    "\n",
    "# write a function that classifies a single example\n",
    "def classify(example, weights):\n",
    "    pass\n",
    "\n",
    "# write a function that checks how many elements of the dataset are classified correctly\n",
    "def evaluate(data, weights):\n",
    "    pass\n",
    "\n",
    "# let's initialize our weights to some random normal values (you can experiment with other initialization techniques)\n",
    "# (what do the dimensions the weights need to be?)\n",
    "weights = np.random.randn(10, 785)\n",
    "\n",
    "# set some \"learning rate\", which is how much the weights change in response to the gradient\n",
    "# if this is too low, learning will be slow. if it's too high, the behavior can be chaotic\n",
    "learning_rate = 0.0001\n",
    "\n",
    "# for some number of iterations, repeatedly set weights = weights + learning_rate* d/dw LL(X,Y|weights)\n",
    "for i in range(1000):\n",
    "    pass\n"
   ]
  },
  {
   "cell_type": "code",
   "execution_count": null,
   "metadata": {
    "collapsed": true
   },
   "outputs": [],
   "source": []
  }
 ],
 "metadata": {
  "kernelspec": {
   "display_name": "Python 2 (SageMath)",
   "language": "python",
   "name": "python2"
  },
  "language_info": {
   "codemirror_mode": {
    "name": "ipython",
    "version": 2
   },
   "file_extension": ".py",
   "mimetype": "text/x-python",
   "name": "python",
   "nbconvert_exporter": "python",
   "pygments_lexer": "ipython2",
   "version": "2.7.10"
  }
 },
 "nbformat": 4,
 "nbformat_minor": 0
}
